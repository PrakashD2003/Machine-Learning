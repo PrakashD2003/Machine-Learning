{
 "cells": [
  {
   "cell_type": "code",
   "execution_count": 1,
   "metadata": {},
   "outputs": [],
   "source": [
    "import numpy as np\n",
    "import pandas as pd\n",
    "import matplotlib.pyplot as plt\n",
    "import seaborn as sns\n",
    "from sklearn.preprocessing import StandardScaler\n",
    "from sklearn.model_selection import train_test_split"
   ]
  },
  {
   "cell_type": "code",
   "execution_count": 2,
   "metadata": {},
   "outputs": [
    {
     "data": {
      "text/html": [
       "<div>\n",
       "<style scoped>\n",
       "    .dataframe tbody tr th:only-of-type {\n",
       "        vertical-align: middle;\n",
       "    }\n",
       "\n",
       "    .dataframe tbody tr th {\n",
       "        vertical-align: top;\n",
       "    }\n",
       "\n",
       "    .dataframe thead th {\n",
       "        text-align: right;\n",
       "    }\n",
       "</style>\n",
       "<table border=\"1\" class=\"dataframe\">\n",
       "  <thead>\n",
       "    <tr style=\"text-align: right;\">\n",
       "      <th></th>\n",
       "      <th>Health Score</th>\n",
       "      <th>Cholesterol Level</th>\n",
       "      <th>Condition</th>\n",
       "    </tr>\n",
       "  </thead>\n",
       "  <tbody>\n",
       "    <tr>\n",
       "      <th>0</th>\n",
       "      <td>97.483571</td>\n",
       "      <td>181.788937</td>\n",
       "      <td>Good</td>\n",
       "    </tr>\n",
       "    <tr>\n",
       "      <th>1</th>\n",
       "      <td>94.308678</td>\n",
       "      <td>182.803923</td>\n",
       "      <td>Good</td>\n",
       "    </tr>\n",
       "    <tr>\n",
       "      <th>2</th>\n",
       "      <td>98.238443</td>\n",
       "      <td>185.415256</td>\n",
       "      <td>Good</td>\n",
       "    </tr>\n",
       "    <tr>\n",
       "      <th>3</th>\n",
       "      <td>102.615149</td>\n",
       "      <td>185.269010</td>\n",
       "      <td>Good</td>\n",
       "    </tr>\n",
       "    <tr>\n",
       "      <th>4</th>\n",
       "      <td>93.829233</td>\n",
       "      <td>173.111653</td>\n",
       "      <td>Good</td>\n",
       "    </tr>\n",
       "  </tbody>\n",
       "</table>\n",
       "</div>"
      ],
      "text/plain": [
       "   Health Score  Cholesterol Level Condition\n",
       "0     97.483571         181.788937      Good\n",
       "1     94.308678         182.803923      Good\n",
       "2     98.238443         185.415256      Good\n",
       "3    102.615149         185.269010      Good\n",
       "4     93.829233         173.111653      Good"
      ]
     },
     "execution_count": 2,
     "metadata": {},
     "output_type": "execute_result"
    }
   ],
   "source": [
    "## Reading Dataset\n",
    "df = pd.read_csv(r'D:\\Programming\\Study\\Machine Learning\\Datasets\\health_dataset_clusters_with_cholesterol.csv')\n",
    "df.head()"
   ]
  },
  {
   "cell_type": "code",
   "execution_count": 3,
   "metadata": {},
   "outputs": [
    {
     "data": {
      "text/html": [
       "<div>\n",
       "<style scoped>\n",
       "    .dataframe tbody tr th:only-of-type {\n",
       "        vertical-align: middle;\n",
       "    }\n",
       "\n",
       "    .dataframe tbody tr th {\n",
       "        vertical-align: top;\n",
       "    }\n",
       "\n",
       "    .dataframe thead th {\n",
       "        text-align: right;\n",
       "    }\n",
       "</style>\n",
       "<table border=\"1\" class=\"dataframe\">\n",
       "  <thead>\n",
       "    <tr style=\"text-align: right;\">\n",
       "      <th></th>\n",
       "      <th>Health Score</th>\n",
       "      <th>Cholesterol Level</th>\n",
       "    </tr>\n",
       "  </thead>\n",
       "  <tbody>\n",
       "    <tr>\n",
       "      <th>0</th>\n",
       "      <td>97.483571</td>\n",
       "      <td>181.788937</td>\n",
       "    </tr>\n",
       "    <tr>\n",
       "      <th>1</th>\n",
       "      <td>94.308678</td>\n",
       "      <td>182.803923</td>\n",
       "    </tr>\n",
       "    <tr>\n",
       "      <th>2</th>\n",
       "      <td>98.238443</td>\n",
       "      <td>185.415256</td>\n",
       "    </tr>\n",
       "    <tr>\n",
       "      <th>3</th>\n",
       "      <td>102.615149</td>\n",
       "      <td>185.269010</td>\n",
       "    </tr>\n",
       "    <tr>\n",
       "      <th>4</th>\n",
       "      <td>93.829233</td>\n",
       "      <td>173.111653</td>\n",
       "    </tr>\n",
       "  </tbody>\n",
       "</table>\n",
       "</div>"
      ],
      "text/plain": [
       "   Health Score  Cholesterol Level\n",
       "0     97.483571         181.788937\n",
       "1     94.308678         182.803923\n",
       "2     98.238443         185.415256\n",
       "3    102.615149         185.269010\n",
       "4     93.829233         173.111653"
      ]
     },
     "execution_count": 3,
     "metadata": {},
     "output_type": "execute_result"
    }
   ],
   "source": [
    "df = df.drop('Condition',axis=1)\n",
    "df.head()"
   ]
  },
  {
   "cell_type": "code",
   "execution_count": 4,
   "metadata": {},
   "outputs": [
    {
     "data": {
      "text/plain": [
       "<matplotlib.collections.PathCollection at 0x26b50acbc80>"
      ]
     },
     "execution_count": 4,
     "metadata": {},
     "output_type": "execute_result"
    },
    {
     "data": {
      "image/png": "[encoded data removed]",
      "text/plain": [
       "<Figure size 640x480 with 1 Axes>"
      ]
     },
     "metadata": {},
     "output_type": "display_data"
    }
   ],
   "source": [
    "plt.scatter(df['Cholesterol Level'],df['Health Score'])"
   ]
  },
  {
   "cell_type": "markdown",
   "metadata": {},
   "source": [
    "### Implementing Isolation Forest\n"
   ]
  },
  {
   "cell_type": "code",
   "execution_count": 5,
   "metadata": {},
   "outputs": [],
   "source": [
    "from sklearn.ensemble import IsolationForest\n",
    "# Parameters\n",
    "# 1.n_estimators: Number of trees in the forest.\n",
    "#                 More trees improve accuracy but increase computation time.\n",
    "# 2.max_samples:  Number of data points used to train each tree.\n",
    "#                 Lower values can improve performance on large datasets.\n",
    "# 3.contamination:Proportion of anomalies in the data (used for decision thresholds).\n",
    "#                 Helps scale the anomaly scores to better classify points.\n",
    "# 4.max_features: Number of features to consider for each split.\n",
    "\n",
    "isolation_forest_model = IsolationForest(n_estimators=100,max_samples='auto',contamination=0.1,n_jobs=-1)\n",
    "isolation_forest_model.fit(df)\n",
    "prediction = isolation_forest_model.predict(df)"
   ]
  },
  {
   "cell_type": "code",
   "execution_count": 6,
   "metadata": {},
   "outputs": [
    {
     "name": "stdout",
     "output_type": "stream",
     "text": [
      "(array([ 62,  74, 180, 181, 182, 183, 184, 185, 186, 187, 188, 189, 190,\n",
      "       191, 193, 194, 196, 197, 198, 199]),)\n"
     ]
    }
   ],
   "source": [
    "## Finding Index of outliers\n",
    "index = np.where(prediction<0)\n",
    "print(index)"
   ]
  },
  {
   "cell_type": "code",
   "execution_count": 7,
   "metadata": {},
   "outputs": [
    {
     "data": {
      "text/plain": [
       "<matplotlib.collections.PathCollection at 0x26b50c81280>"
      ]
     },
     "execution_count": 7,
     "metadata": {},
     "output_type": "execute_result"
    },
    {
     "data": {
      "image/png": "[encoded data removed]",
      "text/plain": [
       "<Figure size 640x480 with 1 Axes>"
      ]
     },
     "metadata": {},
     "output_type": "display_data"
    }
   ],
   "source": [
    "x = df.values\n",
    "plt.scatter(df.iloc[:,1],df.iloc[:,0])\n",
    "plt.scatter(x=x[index,1],y=x[index,0],edgecolors='r')"
   ]
  },
  {
   "cell_type": "code",
   "execution_count": 8,
   "metadata": {},
   "outputs": [
    {
     "data": {
      "text/plain": [
       "<matplotlib.collections.PathCollection at 0x26b540335f0>"
      ]
     },
     "execution_count": 8,
     "metadata": {},
     "output_type": "execute_result"
    },
    {
     "data": {
      "image/png": "[encoded data removed]",
      "text/plain": [
       "<Figure size 640x480 with 1 Axes>"
      ]
     },
     "metadata": {},
     "output_type": "display_data"
    }
   ],
   "source": [
    "plt.scatter(x=x[index,1],y=x[index,0],edgecolors='r')"
   ]
  },
  {
   "cell_type": "code",
   "execution_count": 9,
   "metadata": {},
   "outputs": [],
   "source": [
    "######## Code for creating Dataset\n",
    "# import pandas as pd\n",
    "# import numpy as np\n",
    "\n",
    "# # Set random seed for reproducibility\n",
    "# np.random.seed(42)\n",
    "\n",
    "# # Create high-density regions (clusters) for Health Score\n",
    "# cluster_1 = np.random.normal(loc=95, scale=5, size=100)\n",
    "# cluster_2 = np.random.normal(loc=80, scale=5, size=80)\n",
    "\n",
    "# # Create outliers for Health Score\n",
    "# outliers_1 = np.random.normal(loc=45, scale=10, size=10)\n",
    "# outliers_2 = np.random.normal(loc=30, scale=10, size=10)\n",
    "\n",
    "# # Combine clusters and outliers for Health Score\n",
    "# health_scores = np.concatenate([cluster_1, cluster_2, outliers_1,outliers_2])\n",
    "\n",
    "# # Create high-density regions (clusters) for Cholesterol Level\n",
    "# cholesterol_cluster_1 = np.random.normal(loc=180, scale=5, size=100)\n",
    "# cholesterol_cluster_2 = np.random.normal(loc=220, scale=5, size=80)\n",
    "\n",
    "# # Create outliers for Cholesterol Level\n",
    "# cholesterol_outliers_1 = np.random.normal(loc=300, scale=20, size=10)\n",
    "# cholesterol_outliers_2 = np.random.normal(loc=330, scale=20, size=10)\n",
    "\n",
    "# # Combine clusters and outliers for Cholesterol Level\n",
    "# cholesterol_levels = np.concatenate([cholesterol_cluster_1, cholesterol_cluster_2, cholesterol_outliers_1,cholesterol_outliers_2])\n",
    "\n",
    "# # Create conditions (most are good)\n",
    "# conditions = ['Good'] * 180 + ['Disease'] * 20\n",
    "\n",
    "\n",
    "# # Create the dataset\n",
    "# data = {\n",
    "#     \"Health Score\": health_scores,\n",
    "#     \"Cholesterol Level\": cholesterol_levels,\n",
    "#     \"Condition\": conditions\n",
    "# }\n",
    "\n",
    "# # Create a DataFrame\n",
    "# df = pd.DataFrame(data)\n",
    "\n",
    "# # Export to CSV\n",
    "# df.to_csv(\"health_dataset_clusters_with_cholesterol.csv\", index=False)\n",
    "\n",
    "# print(df.head(20))  # Display the first 20 rows\n"
   ]
  },
  {
   "cell_type": "code",
   "execution_count": null,
   "metadata": {},
   "outputs": [],
   "source": []
  }
 ],
 "metadata": {
  "kernelspec": {
   "display_name": "Machine_Learning_ENV",
   "language": "python",
   "name": "python3"
  },
  "language_info": {
   "codemirror_mode": {
    "name": "ipython",
    "version": 3
   },
   "file_extension": ".py",
   "mimetype": "text/x-python",
   "name": "python",
   "nbconvert_exporter": "python",
   "pygments_lexer": "ipython3",
   "version": "3.12.5"
  }
 },
 "nbformat": 4,
 "nbformat_minor": 2
}
